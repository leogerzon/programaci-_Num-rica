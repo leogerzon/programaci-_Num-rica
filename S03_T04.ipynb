{
  "nbformat": 4,
  "nbformat_minor": 0,
  "metadata": {
    "colab": {
      "name": "S03 T04.ipynb",
      "provenance": [],
      "collapsed_sections": []
    },
    "kernelspec": {
      "name": "python3",
      "display_name": "Python 3"
    },
    "language_info": {
      "name": "python"
    }
  },
  "cells": [
    {
      "cell_type": "markdown",
      "metadata": {
        "id": "3PNEOsgzkQ8o"
      },
      "source": [
        "# S03 T04: Pràctica amb programació numèrica\n",
        "\n"
      ]
    },
    {
      "cell_type": "markdown",
      "metadata": {
        "id": "bZ4y5MDVj1c8"
      },
      "source": [
        "## Nivell 1"
      ]
    },
    {
      "cell_type": "markdown",
      "metadata": {
        "id": "OifnpV9pj8eB"
      },
      "source": [
        "### Exercici 1"
      ]
    },
    {
      "cell_type": "markdown",
      "metadata": {
        "id": "CELw84z7kBYz"
      },
      "source": [
        "Crea una funció que donat un Array d’una dimensió, et faci un resum estadístic bàsic de les dades. Si detecta que l’array té més d’una dimensió, ha de mostrar un missatge d’error."
      ]
    },
    {
      "cell_type": "code",
      "metadata": {
        "colab": {
          "base_uri": "https://localhost:8080/"
        },
        "id": "WA0tt82gkFex",
        "outputId": "99e37ece-0a19-47ed-8bfe-6c15d3d0ccd8"
      },
      "source": [
        "import pandas as pd\n",
        "import numpy as np\n",
        "from numpy import random\n",
        "\n",
        "arr = np.random.randint((100), size=(10))\n",
        "\n",
        "def resumen_estadistico(arr):\n",
        "     mean = arr.mean()\n",
        "     max = arr.max()\n",
        "     min = arr.min()\n",
        "     suma = arr.sum() \n",
        "     print(\"El número más grande es el:\", max)\n",
        "     print(\"El número más pequeño es el:\", min) \n",
        "     print(\"La media es de:\", mean)\n",
        "     print(\"La suma de todos los elementos es de:\", suma)\n",
        "                   \n",
        "if arr.ndim > 1:\n",
        "        print (\"Error\")\n",
        "else:\n",
        "  print(arr)\n",
        "  print(\"Resumen estadístico básico de los datos\") \n",
        "  resumen_estadistico(arr)      "
      ],
      "execution_count": 108,
      "outputs": [
        {
          "output_type": "stream",
          "name": "stdout",
          "text": [
            "[54 44 45 25 10 53 43 77 90 58]\n",
            "Resumen estadístico básico de los datos\n",
            "El número más grande es el: 90\n",
            "El número más pequeño es el: 10\n",
            "La media es de: 49.9\n",
            "La suma de todos los elementos es de: 499\n"
          ]
        }
      ]
    },
    {
      "cell_type": "markdown",
      "metadata": {
        "id": "iRjbtx0HnRTd"
      },
      "source": [
        "### Exercici 2"
      ]
    },
    {
      "cell_type": "markdown",
      "metadata": {
        "id": "9icYtb2-nWVV"
      },
      "source": [
        "Crea una funció que et generi un quadrat NxN de nombres aleatoris entre el 0 i el 100."
      ]
    },
    {
      "cell_type": "code",
      "metadata": {
        "colab": {
          "base_uri": "https://localhost:8080/"
        },
        "id": "JLoJevqrn3kV",
        "outputId": "a5eca5c1-6d6e-425a-bfe8-cba757300712"
      },
      "source": [
        "def crear_cuadrado():\n",
        "  base = int(input(\"Ingrese un número:\"))  \n",
        "  print(np.random.randint((100), size=(base,base)))\n",
        "    \n",
        "crear_cuadrado()"
      ],
      "execution_count": 109,
      "outputs": [
        {
          "output_type": "stream",
          "name": "stdout",
          "text": [
            "Ingrese un número:8\n",
            "[[97 61 17 27 43 84 41 87]\n",
            " [ 8 79 31 10  5 38  4 11]\n",
            " [32  1 97 96 12 34 95 44]\n",
            " [88 54 16 11 22 86 36 43]\n",
            " [94  8 32 79 35 39 98 41]\n",
            " [59 45 68 83 18 96  9 46]\n",
            " [82 55 35 33 56 37 46  9]\n",
            " [84 22 23 25 19 31 54 85]]\n"
          ]
        }
      ]
    },
    {
      "cell_type": "markdown",
      "metadata": {
        "id": "zBKnk3DeoHD2"
      },
      "source": [
        "### Exercici 3"
      ]
    },
    {
      "cell_type": "markdown",
      "metadata": {
        "id": "Z4XnmZeaoK_C"
      },
      "source": [
        "Crea una funció que donada una taula de dues dimensions, et calculi els totals per fila i els totals per columna."
      ]
    },
    {
      "cell_type": "code",
      "metadata": {
        "colab": {
          "base_uri": "https://localhost:8080/"
        },
        "id": "l5xzKPKpoP0b",
        "outputId": "9f6d70cd-bdcc-43c0-aed1-ed24fe4f1c88"
      },
      "source": [
        "arr = np.random.randint((1000), size=(6,6))\n",
        "\n",
        "def calcular_totales(arr):\n",
        "    filas = len(arr)\n",
        "    columnas = len(arr[0])\n",
        "    sumaFilas = np.apply_along_axis(sum, 1, arr)\n",
        "    sumaColumnas = np.apply_along_axis(sum, 0, arr)\n",
        "    print(\"La suma de las filas es:\", sumaFilas)\n",
        "    print(\"La suma de las columnas es:\", sumaColumnas)\n",
        "\n",
        "print(arr)\n",
        "calcular_totales(arr) "
      ],
      "execution_count": 111,
      "outputs": [
        {
          "output_type": "stream",
          "name": "stdout",
          "text": [
            "[[401 301 943 280 693 851]\n",
            " [523 133 230 855 517 738]\n",
            " [935 996 855 412  20 891]\n",
            " [651 696 173 783  55 670]\n",
            " [424 918 285 223  69 517]\n",
            " [296  99 997 998 692 686]]\n",
            "La suma de las filas es: [3469 2996 4109 3028 2436 3768]\n",
            "La suma de las columnas es: [3230 3143 3483 3551 2046 4353]\n"
          ]
        }
      ]
    },
    {
      "cell_type": "markdown",
      "metadata": {
        "id": "LnKToP5DoQ2E"
      },
      "source": [
        "### Exercici 4"
      ]
    },
    {
      "cell_type": "markdown",
      "metadata": {
        "id": "OuARcMXLoUuY"
      },
      "source": [
        "Implementa manualment una funció que calculi el coeficient de correlació. Informa’t-en sobre els seus usos i interpretació."
      ]
    },
    {
      "cell_type": "code",
      "metadata": {
        "colab": {
          "base_uri": "https://localhost:8080/"
        },
        "id": "oQUpAssf4TuD",
        "outputId": "68beb5a1-9b74-4efa-a240-81c803929ea3"
      },
      "source": [
        "def coeficiente_correlacion():\n",
        "  x = np.array([-2, -1, 0, 1, 2])\n",
        "  y = np.array([4, 1, 3, 2, 0])\n",
        "  result = np.corrcoef(x, y)\n",
        "  print(result)\n",
        "\n",
        "coeficiente_correlacion()"
      ],
      "execution_count": 112,
      "outputs": [
        {
          "output_type": "stream",
          "name": "stdout",
          "text": [
            "[[ 1.  -0.7]\n",
            " [-0.7  1. ]]\n"
          ]
        }
      ]
    },
    {
      "cell_type": "code",
      "metadata": {
        "id": "HJNvy6Nh4bTD"
      },
      "source": [
        ""
      ],
      "execution_count": null,
      "outputs": []
    }
  ]
}